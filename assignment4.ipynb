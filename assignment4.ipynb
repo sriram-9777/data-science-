{
 "cells": [
  {
   "cell_type": "code",
   "execution_count": 1,
   "id": "641d6545-989d-4565-ae55-2a20ae573a4d",
   "metadata": {},
   "outputs": [],
   "source": [
    "def add(a,b,c,d):\n",
    "    return a+b+c+d"
   ]
  },
  {
   "cell_type": "code",
   "execution_count": 6,
   "id": "3daca251-1bb3-410b-94b6-14ce220c8f2c",
   "metadata": {},
   "outputs": [
    {
     "data": {
      "text/plain": [
       "19"
      ]
     },
     "execution_count": 6,
     "metadata": {},
     "output_type": "execute_result"
    }
   ],
   "source": [
    "add(2,3,6,8)"
   ]
  },
  {
   "cell_type": "code",
   "execution_count": 9,
   "id": "699c4457-90d3-4f06-b2fb-2af9987d8ad5",
   "metadata": {},
   "outputs": [],
   "source": [
    "def test(*a):\n",
    "    for name in a:\n",
    "        print(name)"
   ]
  },
  {
   "cell_type": "code",
   "execution_count": 10,
   "id": "57c5148e-491a-4697-80e5-7843e28734c5",
   "metadata": {},
   "outputs": [
    {
     "name": "stdout",
     "output_type": "stream",
     "text": [
      "Alice\n",
      "Bob\n",
      "Charlie\n"
     ]
    }
   ],
   "source": [
    "test(\"Alice\", \"Bob\", \"Charlie\")"
   ]
  },
  {
   "cell_type": "code",
   "execution_count": 11,
   "id": "9a4cc80f-8799-4769-9503-2dc0e9d6e0bf",
   "metadata": {},
   "outputs": [],
   "source": [
    "def test1(*a):\n",
    "    for i in a:\n",
    "        if i%2 == 0:\n",
    "            return (i)"
   ]
  },
  {
   "cell_type": "code",
   "execution_count": 12,
   "id": "c087a66b-5fcc-4444-add5-bc50e312c05a",
   "metadata": {},
   "outputs": [
    {
     "data": {
      "text/plain": [
       "2"
      ]
     },
     "execution_count": 12,
     "metadata": {},
     "output_type": "execute_result"
    }
   ],
   "source": [
    "test1(2,3,6,9,8,5,4,22)"
   ]
  },
  {
   "cell_type": "code",
   "execution_count": 34,
   "id": "c6c6c507-c1e4-4ddb-b82d-1b8b4f3c3088",
   "metadata": {},
   "outputs": [],
   "source": [
    "def test2(*a):\n",
    "    l =[]\n",
    "    for i in a:\n",
    "        if type(i) == int:\n",
    "            l.append(i)\n",
    "    return l"
   ]
  },
  {
   "cell_type": "code",
   "execution_count": 35,
   "id": "a9c1b770-626f-4e80-a334-8b511027749e",
   "metadata": {},
   "outputs": [
    {
     "data": {
      "text/plain": [
       "[10, 225, 9, 9]"
      ]
     },
     "execution_count": 35,
     "metadata": {},
     "output_type": "execute_result"
    }
   ],
   "source": [
    "test2(10,\"aimnxt\",225,9,\"data science\",9)"
   ]
  },
  {
   "cell_type": "code",
   "execution_count": 36,
   "id": "dd0fdb7a-3043-4f42-8ace-edeb6e8b3b21",
   "metadata": {},
   "outputs": [],
   "source": [
    "def test3(*a):\n",
    "    n = 1\n",
    "    for i in a:\n",
    "        if type(i)==int:\n",
    "            n=n*i\n",
    "    return (n)"
   ]
  },
  {
   "cell_type": "code",
   "execution_count": 37,
   "id": "691a9e61-1a86-4aee-90bf-109dff0c4ed1",
   "metadata": {},
   "outputs": [
    {
     "data": {
      "text/plain": [
       "116640"
      ]
     },
     "execution_count": 37,
     "metadata": {},
     "output_type": "execute_result"
    }
   ],
   "source": [
    "test3(2,5,9,6,8,3,9)"
   ]
  }
 ],
 "metadata": {
  "kernelspec": {
   "display_name": "Python 3 (ipykernel)",
   "language": "python",
   "name": "python3"
  },
  "language_info": {
   "codemirror_mode": {
    "name": "ipython",
    "version": 3
   },
   "file_extension": ".py",
   "mimetype": "text/x-python",
   "name": "python",
   "nbconvert_exporter": "python",
   "pygments_lexer": "ipython3",
   "version": "3.13.2"
  }
 },
 "nbformat": 4,
 "nbformat_minor": 5
}
