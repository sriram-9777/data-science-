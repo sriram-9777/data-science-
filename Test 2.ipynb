{
 "cells": [
  {
   "cell_type": "markdown",
   "id": "40c9eecc-cc83-4c73-b409-7d3fb4f83391",
   "metadata": {},
   "source": [
    "Write a Python function to check if a number is prime."
   ]
  },
  {
   "cell_type": "code",
   "execution_count": 7,
   "id": "317563d5-fcc7-4171-a3eb-b4930a4d1c6b",
   "metadata": {},
   "outputs": [],
   "source": [
    "def test():\n",
    "    num = 11\n",
    "    if num > 1:\n",
    "         for i in range(2, (num//2)+1):\n",
    "             if (num % i) == 0:\n",
    "                 print(num, \"is not a prime number\")\n",
    "                 break\n",
    "             else:\n",
    "                 print(num, \"is a prime number\")\n",
    "    else:\n",
    "        print(num, \"is not a prime number\")"
   ]
  },
  {
   "cell_type": "code",
   "execution_count": 8,
   "id": "30c52eda-1314-421c-a37d-8d863a38622f",
   "metadata": {},
   "outputs": [
    {
     "name": "stdout",
     "output_type": "stream",
     "text": [
      "11 is a prime number\n",
      "11 is a prime number\n",
      "11 is a prime number\n",
      "11 is a prime number\n"
     ]
    }
   ],
   "source": [
    "test()"
   ]
  },
  {
   "cell_type": "markdown",
   "id": "09dfdaef-1880-4ccf-8b4c-8152410bec16",
   "metadata": {},
   "source": [
    "Write a Python function that returns the sum of elements in a list."
   ]
  },
  {
   "cell_type": "code",
   "execution_count": 9,
   "id": "ed3e7be0-9bf4-4814-9028-584cc03ddd61",
   "metadata": {},
   "outputs": [],
   "source": [
    "def sum(lst):\n",
    "    sum = 0\n",
    "    for i in lst:\n",
    "        sum += i \n",
    "    return sum"
   ]
  },
  {
   "cell_type": "code",
   "execution_count": 10,
   "id": "b710c006-d774-4679-b36c-a34d06137299",
   "metadata": {},
   "outputs": [
    {
     "data": {
      "text/plain": [
       "26"
      ]
     },
     "execution_count": 10,
     "metadata": {},
     "output_type": "execute_result"
    }
   ],
   "source": [
    "sum([1,2,5,3,6,9])"
   ]
  },
  {
   "cell_type": "markdown",
   "id": "da327700-382d-44cc-ae90-78e39703077c",
   "metadata": {},
   "source": [
    "Write a Python function to find the maximum of three numbers."
   ]
  },
  {
   "cell_type": "code",
   "execution_count": 11,
   "id": "a56c8a30-a408-45b6-8574-bfc6fbd9479a",
   "metadata": {},
   "outputs": [],
   "source": [
    "def max(num1,num2,num3):\n",
    "    if num1>num2 and num1>num3:\n",
    "        return num1\n",
    "    elif num2>num1 and num2>num3:\n",
    "        return num2\n",
    "    else:\n",
    "        return num3"
   ]
  },
  {
   "cell_type": "code",
   "execution_count": 12,
   "id": "afb8a2d4-283f-4c5d-b227-c13cf687db75",
   "metadata": {},
   "outputs": [
    {
     "data": {
      "text/plain": [
       "24"
      ]
     },
     "execution_count": 12,
     "metadata": {},
     "output_type": "execute_result"
    }
   ],
   "source": [
    "max(12,24,9)"
   ]
  },
  {
   "cell_type": "raw",
   "id": "d408a99c-19a0-4d8b-8e9b-025583a223c9",
   "metadata": {},
   "source": [
    "Write a Python program to read a text file and display its contents."
   ]
  },
  {
   "cell_type": "code",
   "execution_count": 19,
   "id": "f577c62c-4b81-4ff9-9996-bcb853f28ba0",
   "metadata": {},
   "outputs": [],
   "source": [
    "with open ('test.txt','w') as f:\n",
    "    f.write(\"python is awesome\")\n",
    "    f.write(\"\\ni love data science\")"
   ]
  },
  {
   "cell_type": "code",
   "execution_count": 20,
   "id": "e491f079-4218-4493-a68d-5e1421f076b3",
   "metadata": {},
   "outputs": [
    {
     "name": "stdout",
     "output_type": "stream",
     "text": [
      "['python is awesome\\n', 'i love data science']\n"
     ]
    }
   ],
   "source": [
    "with open ('test.txt','r') as f:\n",
    "    lines =f.readlines()\n",
    "    print(lines)"
   ]
  },
  {
   "cell_type": "raw",
   "id": "c62df060-03b4-4057-be76-b014a9fe3340",
   "metadata": {},
   "source": [
    "Write a Python program to count the number of lines in a file"
   ]
  },
  {
   "cell_type": "code",
   "execution_count": 33,
   "id": "ff761364-3a9a-486b-a5c2-d4bce666b49c",
   "metadata": {},
   "outputs": [
    {
     "name": "stdout",
     "output_type": "stream",
     "text": [
      "Number of lines 2\n"
     ]
    }
   ],
   "source": [
    "file = \"test.txt\"\n",
    "count = 0\n",
    "with open(file, 'r') as f:\n",
    "    for line in f:\n",
    "        count += 1\n",
    "print(\"Number of lines\", count)"
   ]
  },
  {
   "cell_type": "raw",
   "id": "580b8ffc-54c5-402a-9f9d-64842e43bbcb",
   "metadata": {},
   "source": [
    "Write a Python program to write a list of numbers to a file."
   ]
  },
  {
   "cell_type": "code",
   "execution_count": 35,
   "id": "753841b9-fb33-46f6-9ae5-0d84b3bc1650",
   "metadata": {},
   "outputs": [],
   "source": [
    "numbers = [1, 2, 3, 4, 5]\n",
    "with open(\"numbers.txt\", \"w\") as f:\n",
    "  for num in numbers:\n",
    "    f.write(str(num) + \"\\n\")"
   ]
  },
  {
   "cell_type": "code",
   "execution_count": null,
   "id": "f04d5713-9fef-47a4-bc6d-475199b121d1",
   "metadata": {},
   "outputs": [],
   "source": [
    "Write a Python program to read a file and count the occurrence of a specific word."
   ]
  },
  {
   "cell_type": "code",
   "execution_count": 36,
   "id": "d27f7683-d0a9-4939-b335-ddea5d3d5938",
   "metadata": {},
   "outputs": [
    {
     "name": "stdout",
     "output_type": "stream",
     "text": [
      "python\n"
     ]
    }
   ],
   "source": [
    "f = open('test.txt', 'r')\n",
    "con = f.read(6)\n",
    "print(con)"
   ]
  },
  {
   "cell_type": "raw",
   "id": "7cf21d35-7ac2-4c97-a280-7163a4f2e344",
   "metadata": {},
   "source": [
    "Write a Python program to append text to an existing file."
   ]
  },
  {
   "cell_type": "code",
   "execution_count": 37,
   "id": "341d226b-d384-46ba-b07c-abf15d0bc367",
   "metadata": {},
   "outputs": [],
   "source": [
    "with open ('test.txt','a')as f:\n",
    "    f.write(\"\\npython is my first programing language\")\n",
    "    f.write(\"\\nhappy learning python\")"
   ]
  },
  {
   "cell_type": "raw",
   "id": "c2a1c5fd-8804-4fef-82de-29b6a89b875d",
   "metadata": {},
   "source": [
    "Write a Python program to calculate the sum of elements in a list using list comprehension."
   ]
  },
  {
   "cell_type": "code",
   "execution_count": 38,
   "id": "b4e5c129-e639-43ad-895f-230f3035a285",
   "metadata": {},
   "outputs": [],
   "source": [
    "l=[1,2,3,6,96]\n",
    "t = sum([i for i in l])"
   ]
  },
  {
   "cell_type": "code",
   "execution_count": 39,
   "id": "da24526f-63a0-4c1a-af16-61aab8a450f5",
   "metadata": {},
   "outputs": [
    {
     "data": {
      "text/plain": [
       "108"
      ]
     },
     "execution_count": 39,
     "metadata": {},
     "output_type": "execute_result"
    }
   ],
   "source": [
    "t"
   ]
  },
  {
   "cell_type": "raw",
   "id": "409c1871-6eb5-4dda-85d4-0e8177eb1cc4",
   "metadata": {},
   "source": [
    "Write a Python program to count the number of words in a string."
   ]
  },
  {
   "cell_type": "code",
   "execution_count": 1,
   "id": "dcefca0b-db85-4c00-9cac-e2fa2fc9b02b",
   "metadata": {},
   "outputs": [
    {
     "name": "stdout",
     "output_type": "stream",
     "text": [
      "5\n"
     ]
    }
   ],
   "source": [
    "text = \"This is a sample string\"\n",
    "words = text.split()\n",
    "word = len(words)\n",
    "print(word)"
   ]
  },
  {
   "cell_type": "raw",
   "id": "61e3ad27-777f-49c7-b198-e0201d20dddc",
   "metadata": {},
   "source": [
    "Write a Python program using a lambda function to find the square of a number."
   ]
  },
  {
   "cell_type": "code",
   "execution_count": 2,
   "id": "7fd34f90-f64d-451a-9824-17a50fb1c40b",
   "metadata": {},
   "outputs": [
    {
     "data": {
      "text/plain": [
       "10"
      ]
     },
     "execution_count": 2,
     "metadata": {},
     "output_type": "execute_result"
    }
   ],
   "source": [
    "a =lambda s:s*2\n",
    "a(5)"
   ]
  },
  {
   "cell_type": "raw",
   "id": "27369ef7-98be-4665-9c3e-93213dc97e36",
   "metadata": {},
   "source": [
    "Write a Python program to handle division by zero using try-except."
   ]
  },
  {
   "cell_type": "code",
   "execution_count": 5,
   "id": "0917a0ed-0c6a-42bc-b9bf-f108c7ca8459",
   "metadata": {},
   "outputs": [
    {
     "name": "stdin",
     "output_type": "stream",
     "text": [
      "enter a first number: 33\n",
      "enter a second number: 0\n"
     ]
    },
    {
     "name": "stdout",
     "output_type": "stream",
     "text": [
      "b can't be a zero\n"
     ]
    }
   ],
   "source": [
    "a = int(input(\"enter a first number:\"))\n",
    "b = int(input(\"enter a second number:\"))\n",
    "try:\n",
    "    c=a/b\n",
    "    print(c)\n",
    "except ZeroDivisionError:\n",
    "    print(\"b can't be a zero\")"
   ]
  },
  {
   "cell_type": "raw",
   "id": "760573d3-8f6e-4b9e-8e3e-4685bdefc253",
   "metadata": {},
   "source": [
    "Write a Python program to check if a key exists in a dictionary."
   ]
  },
  {
   "cell_type": "code",
   "execution_count": 6,
   "id": "b4728640-9bbc-49e0-abb2-e395594eff78",
   "metadata": {},
   "outputs": [],
   "source": [
    "def test(**s):\n",
    "    l=[]\n",
    "    for i in s.keys():\n",
    "            l.append(i)\n",
    "    return l\n",
    "        "
   ]
  },
  {
   "cell_type": "code",
   "execution_count": 9,
   "id": "3daf0df7-76e0-404b-954e-d0f6052130dd",
   "metadata": {},
   "outputs": [
    {
     "data": {
      "text/plain": [
       "['a', 'b', 'c', 'd', 'e']"
      ]
     },
     "execution_count": 9,
     "metadata": {},
     "output_type": "execute_result"
    }
   ],
   "source": [
    "test(a=\"sriram\",b=\"aimnxt\",c=2,d=99,e=True)"
   ]
  },
  {
   "cell_type": "raw",
   "id": "ae5587f2-2e73-4590-8909-9edb5e05fbb1",
   "metadata": {},
   "source": [
    "Write a Python program to remove duplicates from a list using a set"
   ]
  },
  {
   "cell_type": "code",
   "execution_count": 10,
   "id": "b8344d28-fe69-45a7-882c-93593304d12f",
   "metadata": {},
   "outputs": [
    {
     "name": "stdout",
     "output_type": "stream",
     "text": [
      "[1, 2, 3, 4, 5]\n"
     ]
    }
   ],
   "source": [
    "a = [1, 2, 2, 3, 4, 4, 5]\n",
    "\n",
    "num = list(set(a))\n",
    "print(num)"
   ]
  },
  {
   "cell_type": "raw",
   "id": "79136aff-78c2-4cd3-a604-a86353dee994",
   "metadata": {},
   "source": [
    "Write a function that takes a string and returns the reversed string."
   ]
  },
  {
   "cell_type": "code",
   "execution_count": 26,
   "id": "dbc8bcb0-82f1-451e-9df8-39fd92418af9",
   "metadata": {},
   "outputs": [],
   "source": [
    "def test2(*s):\n",
    "    for i in s:\n",
    "        return i[::-1]"
   ]
  },
  {
   "cell_type": "code",
   "execution_count": 27,
   "id": "e0b373a5-769a-484f-9785-59c19944b544",
   "metadata": {},
   "outputs": [
    {
     "data": {
      "text/plain": [
       "'marirs'"
      ]
     },
     "execution_count": 27,
     "metadata": {},
     "output_type": "execute_result"
    }
   ],
   "source": [
    "test2(\"sriram\")"
   ]
  },
  {
   "cell_type": "raw",
   "id": "e1bf73ea-87a4-40c7-94ab-8dd32b9af662",
   "metadata": {},
   "source": [
    "Write a Python function that takes two numbers as arguments and returns their sum"
   ]
  },
  {
   "cell_type": "code",
   "execution_count": 28,
   "id": "eb9be225-d8ac-4109-b9cf-801299046d72",
   "metadata": {},
   "outputs": [],
   "source": [
    "def sum(a,b):\n",
    "    return a+b"
   ]
  },
  {
   "cell_type": "code",
   "execution_count": 29,
   "id": "41f2e632-bfa1-4108-af55-cbfdf123b35b",
   "metadata": {},
   "outputs": [
    {
     "data": {
      "text/plain": [
       "6"
      ]
     },
     "execution_count": 29,
     "metadata": {},
     "output_type": "execute_result"
    }
   ],
   "source": [
    "sum(2,4)"
   ]
  },
  {
   "cell_type": "raw",
   "id": "7059378a-5c37-45dd-aae5-030262fbd090",
   "metadata": {},
   "source": [
    "Write a function to check whether a given number is even or odd."
   ]
  },
  {
   "cell_type": "code",
   "execution_count": 35,
   "id": "57a866da-89a2-4f9e-9c5f-e33cf60b85b7",
   "metadata": {},
   "outputs": [],
   "source": [
    "def test3(a):\n",
    "        if a%2==0:\n",
    "            print(a, \"is even number\")\n",
    "        else:\n",
    "            print(a,\"is odd number\")"
   ]
  },
  {
   "cell_type": "code",
   "execution_count": 36,
   "id": "0a7db485-7831-4d42-9b5d-22ee07ca60da",
   "metadata": {},
   "outputs": [
    {
     "name": "stdout",
     "output_type": "stream",
     "text": [
      "9 is odd number\n"
     ]
    }
   ],
   "source": [
    "test3(9)"
   ]
  },
  {
   "cell_type": "raw",
   "id": "64d509f3-f13d-4ad5-bb39-2f1492c9a5b9",
   "metadata": {},
   "source": [
    "Write a function that takes a number as input and returns the square of that number."
   ]
  },
  {
   "cell_type": "code",
   "execution_count": 42,
   "id": "3522e75e-1bc4-4911-8961-0df2046c0450",
   "metadata": {},
   "outputs": [],
   "source": [
    "def test4(a):\n",
    "        return a*2"
   ]
  },
  {
   "cell_type": "code",
   "execution_count": 43,
   "id": "f2bde19e-8d39-4675-ac02-99d6c0fc5e4c",
   "metadata": {},
   "outputs": [
    {
     "data": {
      "text/plain": [
       "8"
      ]
     },
     "execution_count": 43,
     "metadata": {},
     "output_type": "execute_result"
    }
   ],
   "source": [
    "test4(4)"
   ]
  },
  {
   "cell_type": "raw",
   "id": "0db3f197-69c4-4d79-a738-3adeeaaca8ca",
   "metadata": {},
   "source": [
    "Write a function that takes a list of numbers and returns a new list containing only the even numbers."
   ]
  },
  {
   "cell_type": "code",
   "execution_count": 7,
   "id": "907b601d-e15c-4fa9-94c9-d61ca71d949d",
   "metadata": {},
   "outputs": [],
   "source": [
    "def test5(*a):\n",
    "    l=[]\n",
    "    for i in a:\n",
    "        if i%2 == 0:\n",
    "            l.append(i)\n",
    "    return l"
   ]
  },
  {
   "cell_type": "code",
   "execution_count": 8,
   "id": "4b96bb07-6ddf-4d77-86f3-833990a084aa",
   "metadata": {},
   "outputs": [
    {
     "data": {
      "text/plain": [
       "[2, 6, 6, 8, 8]"
      ]
     },
     "execution_count": 8,
     "metadata": {},
     "output_type": "execute_result"
    }
   ],
   "source": [
    "test5(1,2,3,6,6,8,5,9,5,8,9,5,85,55)"
   ]
  },
  {
   "cell_type": "raw",
   "id": "9125ef46-c668-4c28-b9dd-f73c3edf3fde",
   "metadata": {},
   "source": [
    "Write a function that takes two strings and concatenates them"
   ]
  },
  {
   "cell_type": "code",
   "execution_count": 11,
   "id": "eabdae05-ccc7-4273-a71f-1800636f58ba",
   "metadata": {},
   "outputs": [],
   "source": [
    "def test6(str1,str2):\n",
    "    return str1+str2"
   ]
  },
  {
   "cell_type": "code",
   "execution_count": 12,
   "id": "62629bf8-bf1b-4d2a-9ba4-a78db71d33ce",
   "metadata": {},
   "outputs": [
    {
     "data": {
      "text/plain": [
       "'aimnxt'"
      ]
     },
     "execution_count": 12,
     "metadata": {},
     "output_type": "execute_result"
    }
   ],
   "source": [
    "test6(\"aim\",\"nxt\")"
   ]
  },
  {
   "cell_type": "raw",
   "id": "be99d272-8bd4-4bee-8492-4cdd6102548a",
   "metadata": {},
   "source": [
    "Write a function that returns multiple values (sum, difference, product, and quotient of two numbers)."
   ]
  },
  {
   "cell_type": "code",
   "execution_count": 23,
   "id": "3ad36ee0-536a-4032-8b21-39da80ca11c8",
   "metadata": {},
   "outputs": [],
   "source": [
    "def test(num1,num2):\n",
    "    sum_ = num1+num2\n",
    "    difference = num1-num2\n",
    "    product = num1*num2\n",
    "    if num2>0:\n",
    "        q= num1/num2\n",
    "    else:\n",
    "        return \"deviser is not zero\"\n",
    "    return sum_ ,difference ,product , q"
   ]
  },
  {
   "cell_type": "code",
   "execution_count": 26,
   "id": "d8ed53df-dbde-4162-a90a-baaf06b68068",
   "metadata": {},
   "outputs": [
    {
     "data": {
      "text/plain": [
       "(274, -238, 4608, 0.0703125)"
      ]
     },
     "execution_count": 26,
     "metadata": {},
     "output_type": "execute_result"
    }
   ],
   "source": [
    "test(18,256)"
   ]
  },
  {
   "cell_type": "raw",
   "id": "de4f1592-ca55-4c68-b85d-234322956cee",
   "metadata": {},
   "source": [
    "Write a function that takes a string and returns both its uppercase and lowercase versions."
   ]
  },
  {
   "cell_type": "code",
   "execution_count": null,
   "id": "2bb7da8f-03f9-47a4-b897-41ca4ba5bfa3",
   "metadata": {},
   "outputs": [],
   "source": [
    "def test6()"
   ]
  },
  {
   "cell_type": "raw",
   "id": "8ece152f-99be-4792-a42b-6736fa1e49f9",
   "metadata": {},
   "source": [
    "Write a function that takes a list and returns a new list with unique elements only."
   ]
  },
  {
   "cell_type": "code",
   "execution_count": 28,
   "id": "6bb48300-6394-40b5-b8a8-cca2621a3ea1",
   "metadata": {},
   "outputs": [],
   "source": [
    "def test7(*a):\n",
    "    l=[]\n",
    "    for i in a:\n",
    "        if i not in l:\n",
    "            l.append(i)\n",
    "    return l"
   ]
  },
  {
   "cell_type": "code",
   "execution_count": 29,
   "id": "90cda561-9280-4b52-a3e0-a75f16aae160",
   "metadata": {},
   "outputs": [
    {
     "data": {
      "text/plain": [
       "[25, 5, 9, 8, 52, 87, 7, 58, 85]"
      ]
     },
     "execution_count": 29,
     "metadata": {},
     "output_type": "execute_result"
    }
   ],
   "source": [
    "test7(25,5,9,8,52,87,7,58,5,85,5)"
   ]
  },
  {
   "cell_type": "raw",
   "id": "f1d2cc48-173b-4445-b658-6301a6db7945",
   "metadata": {},
   "source": [
    "Write a Python program to reverse a string using a for loop"
   ]
  },
  {
   "cell_type": "code",
   "execution_count": 30,
   "id": "4f1de0c0-1579-4d56-ab82-eba16323c472",
   "metadata": {},
   "outputs": [],
   "source": [
    "l=[\"sriram\"]"
   ]
  },
  {
   "cell_type": "code",
   "execution_count": 37,
   "id": "6ec0c778-29c7-45f9-a661-b13dadb8221e",
   "metadata": {},
   "outputs": [
    {
     "name": "stdout",
     "output_type": "stream",
     "text": [
      "marirs\n"
     ]
    }
   ],
   "source": [
    "for i in l:\n",
    "    print( i[::-1])"
   ]
  },
  {
   "cell_type": "raw",
   "id": "71d3dc72-692d-41c8-8280-a724b633b539",
   "metadata": {},
   "source": [
    "Write a Python program to print all odd numbers from 1 to 50 using a for loop and an if statement."
   ]
  },
  {
   "cell_type": "code",
   "execution_count": 46,
   "id": "3f15150e-fcfc-404e-a7e3-e6f54b4623d8",
   "metadata": {},
   "outputs": [
    {
     "name": "stdout",
     "output_type": "stream",
     "text": [
      "1\n",
      "3\n",
      "5\n",
      "7\n",
      "9\n",
      "11\n",
      "13\n",
      "15\n",
      "17\n",
      "19\n",
      "21\n",
      "23\n",
      "25\n",
      "27\n",
      "29\n",
      "31\n",
      "33\n",
      "35\n",
      "37\n",
      "39\n",
      "41\n",
      "43\n",
      "45\n",
      "47\n",
      "49\n"
     ]
    }
   ],
   "source": [
    "for i in range(1,50):\n",
    "    if i%2!=0:\n",
    "        print(i)"
   ]
  },
  {
   "cell_type": "raw",
   "id": "a4d65561-07fe-4760-8f81-4456e34a4e71",
   "metadata": {},
   "source": [
    "Write a Python program to count how many numbers in a list are greater than 10."
   ]
  },
  {
   "cell_type": "code",
   "execution_count": 47,
   "id": "a35b5e2b-ee4e-4919-9521-69ac7e18c962",
   "metadata": {},
   "outputs": [],
   "source": [
    "l =[1,2,36,69,8,5,9,5,636,5,3,6,9,25]"
   ]
  },
  {
   "cell_type": "code",
   "execution_count": 60,
   "id": "d2d69f7b-1f65-48f2-bcc2-ca73eaff238f",
   "metadata": {},
   "outputs": [
    {
     "name": "stdout",
     "output_type": "stream",
     "text": [
      "4\n"
     ]
    }
   ],
   "source": [
    "count = 0\n",
    "for i in l:\n",
    "    if i>10:\n",
    "        count +=1\n",
    "print (count)"
   ]
  },
  {
   "cell_type": "raw",
   "id": "fb44d1cd-d2e3-4587-ac02-c044887ecc87",
   "metadata": {},
   "source": [
    "Write a Python program to print all numbers divisible by both 3 and 5 between 1 and 100."
   ]
  },
  {
   "cell_type": "code",
   "execution_count": 67,
   "id": "2aff0682-8c5e-47f8-aaba-857b0af72807",
   "metadata": {},
   "outputs": [
    {
     "name": "stdout",
     "output_type": "stream",
     "text": [
      "15\n",
      "30\n",
      "45\n",
      "60\n",
      "75\n",
      "90\n"
     ]
    }
   ],
   "source": [
    "for i in range(1,100):\n",
    "    if i%3==0 and i%5==0:\n",
    "     print(i)"
   ]
  }
 ],
 "metadata": {
  "kernelspec": {
   "display_name": "Python 3 (ipykernel)",
   "language": "python",
   "name": "python3"
  },
  "language_info": {
   "codemirror_mode": {
    "name": "ipython",
    "version": 3
   },
   "file_extension": ".py",
   "mimetype": "text/x-python",
   "name": "python",
   "nbconvert_exporter": "python",
   "pygments_lexer": "ipython3",
   "version": "3.13.2"
  }
 },
 "nbformat": 4,
 "nbformat_minor": 5
}
