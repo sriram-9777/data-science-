{
 "cells": [
  {
   "cell_type": "code",
   "execution_count": 16,
   "id": "a7ccccd9-517f-42d1-bd42-fa408901b306",
   "metadata": {},
   "outputs": [],
   "source": [
    "l=[12.5, 45, \"hello\", 23.0, 56.78, 90, \"world\"]\n",
    "l1=[]\n",
    "for i in l:\n",
    "    if type(i)==float:\n",
    "        l1.append(i)"
   ]
  },
  {
   "cell_type": "code",
   "execution_count": 17,
   "id": "aaee8b42-1af6-4961-9068-82dec00d3b22",
   "metadata": {},
   "outputs": [
    {
     "data": {
      "text/plain": [
       "[12.5, 23.0, 56.78]"
      ]
     },
     "execution_count": 17,
     "metadata": {},
     "output_type": "execute_result"
    }
   ],
   "source": [
    "l1"
   ]
  },
  {
   "cell_type": "code",
   "execution_count": 18,
   "id": "385e8d83-b2c9-4d97-98c8-c38af15b17b4",
   "metadata": {},
   "outputs": [],
   "source": [
    "l = [1, \"Python\", 3.14, \"Coding\", 42, \"AI\"]\n",
    "l2=[]\n",
    "for i in l:\n",
    "    if type(i) == str:\n",
    "        l2.append(i)"
   ]
  },
  {
   "cell_type": "code",
   "execution_count": 19,
   "id": "17fbede1-d535-4c3d-9f75-bc36cab70b80",
   "metadata": {},
   "outputs": [
    {
     "data": {
      "text/plain": [
       "['Python', 'Coding', 'AI']"
      ]
     },
     "execution_count": 19,
     "metadata": {},
     "output_type": "execute_result"
    }
   ],
   "source": [
    "l2"
   ]
  },
  {
   "cell_type": "code",
   "execution_count": 28,
   "id": "0c2bffd7-f100-449d-90cf-0b642019958a",
   "metadata": {},
   "outputs": [
    {
     "name": "stdout",
     "output_type": "stream",
     "text": [
      "['data', 4.5, True, None]\n"
     ]
    }
   ],
   "source": [
    "l = [1, 2, 3, \"data\", 4.5, True, None]\n",
    "l3=[]\n",
    "for i in l:\n",
    "    if type(i) != int:\n",
    "        l3.append(i)\n",
    "print(l3)"
   ]
  },
  {
   "cell_type": "code",
   "execution_count": 21,
   "id": "99910699-f2e2-4057-beb7-c4985c74d99b",
   "metadata": {},
   "outputs": [],
   "source": [
    "l = [True, 42, \"yes\", False, 3.14, \"AI\"]\n",
    "l4=[]\n",
    "for i in l:\n",
    "    if type(i) == bool:\n",
    "        l4.append(i)"
   ]
  },
  {
   "cell_type": "code",
   "execution_count": 22,
   "id": "a92bbf66-34ba-451e-946e-33cd0798e9c5",
   "metadata": {},
   "outputs": [
    {
     "data": {
      "text/plain": [
       "[True, False]"
      ]
     },
     "execution_count": 22,
     "metadata": {},
     "output_type": "execute_result"
    }
   ],
   "source": [
    "l4"
   ]
  },
  {
   "cell_type": "code",
   "execution_count": 27,
   "id": "d429a82b-191b-46a1-a94a-ddc5b74ee470",
   "metadata": {},
   "outputs": [
    {
     "name": "stdout",
     "output_type": "stream",
     "text": [
      "[2, 4, 6]\n"
     ]
    }
   ],
   "source": [
    "l = [1, 2, 3, 4, 5, 6, \"even\", 7.8]\n",
    "l5=[]\n",
    "for i in l:\n",
    "    if type(i)==int:\n",
    "        if i%2 == 0:\n",
    "            l5.append(i)\n",
    "print(l5)"
   ]
  },
  {
   "cell_type": "code",
   "execution_count": 30,
   "id": "e9c4a364-32ea-495c-b349-974f9e08f70f",
   "metadata": {},
   "outputs": [
    {
     "name": "stdout",
     "output_type": "stream",
     "text": [
      "[21, 43, 65]\n"
     ]
    }
   ],
   "source": [
    "l = [10, 21, 32, 43, \"odd\", 54, 65]\n",
    "l6=[]\n",
    "for i in l:\n",
    "    if type(i)==int:\n",
    "        if i%2 != 0:\n",
    "            l6.append(i)\n",
    "print(l6)"
   ]
  },
  {
   "cell_type": "code",
   "execution_count": 33,
   "id": "2260f4e8-81ce-447a-bb58-89ed602dfc02",
   "metadata": {},
   "outputs": [
    {
     "name": "stdout",
     "output_type": "stream",
     "text": [
      "['apple', 'hello']\n"
     ]
    }
   ],
   "source": [
    "l = [\"apple\", \"AI\", 123, \"data\", \"hello\", 3.14]\n",
    "\n",
    "l7 = []\n",
    "\n",
    "for i in l:\n",
    "    if type(i)==str and len(i) > 4:\n",
    "        l7.append(i)\n",
    "\n",
    "print(l7)"
   ]
  },
  {
   "cell_type": "code",
   "execution_count": 35,
   "id": "c5ac30b2-a431-4031-809f-4daa2c5ee054",
   "metadata": {},
   "outputs": [
    {
     "name": "stdout",
     "output_type": "stream",
     "text": [
      "[1, 'Python', 45.6, 'data']\n"
     ]
    }
   ],
   "source": [
    "l = [1, None, \"Python\", None, 45.6, \"data\"]\n",
    "l8=[]\n",
    "for i in l:\n",
    "    if i is not None:\n",
    "        l8.append(i)\n",
    "print(l8)"
   ]
  },
  {
   "cell_type": "code",
   "execution_count": 37,
   "id": "99e11f6b-e936-404a-9fa7-bf2a5d06b972",
   "metadata": {},
   "outputs": [
    {
     "name": "stdout",
     "output_type": "stream",
     "text": [
      "['AI', 'world']\n"
     ]
    }
   ],
   "source": [
    "l = [\"AI\", \"Data123\", \"hello!\", \"world\", 42, \"Python3\"]\n",
    "l9=[]\n",
    "for i in l:\n",
    "    if type(i)==str:\n",
    "        if i.isalpha():\n",
    "            l9.append(i)\n",
    "print(l9)"
   ]
  },
  {
   "cell_type": "code",
   "execution_count": 38,
   "id": "d8c2f704-c66b-4a25-aef7-e77a663de7b4",
   "metadata": {},
   "outputs": [
    {
     "name": "stdout",
     "output_type": "stream",
     "text": [
      "[2.5, 4.0]\n"
     ]
    }
   ],
   "source": [
    "l = [1, 2.5, \"hello\", 3, 4.0, \"world\"]\n",
    "l10=[]\n",
    "for i in l:\n",
    "    if type(i)==float:\n",
    "        l10.append(i)\n",
    "print(l10)"
   ]
  }
 ],
 "metadata": {
  "kernelspec": {
   "display_name": "Python 3 (ipykernel)",
   "language": "python",
   "name": "python3"
  },
  "language_info": {
   "codemirror_mode": {
    "name": "ipython",
    "version": 3
   },
   "file_extension": ".py",
   "mimetype": "text/x-python",
   "name": "python",
   "nbconvert_exporter": "python",
   "pygments_lexer": "ipython3",
   "version": "3.13.2"
  }
 },
 "nbformat": 4,
 "nbformat_minor": 5
}
