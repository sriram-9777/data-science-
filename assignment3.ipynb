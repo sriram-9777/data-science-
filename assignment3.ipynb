{
 "cells": [
  {
   "cell_type": "code",
   "execution_count": 1,
   "id": "77c146c4-c4d9-4345-9456-170cf46b1ba7",
   "metadata": {},
   "outputs": [],
   "source": [
    "def test(a,b):\n",
    "    return a+b"
   ]
  },
  {
   "cell_type": "code",
   "execution_count": 4,
   "id": "836b0e95-e756-41b0-8023-52e7b505b45e",
   "metadata": {},
   "outputs": [
    {
     "data": {
      "text/plain": [
       "8"
      ]
     },
     "execution_count": 4,
     "metadata": {},
     "output_type": "execute_result"
    }
   ],
   "source": [
    "test(5,3)"
   ]
  },
  {
   "cell_type": "code",
   "execution_count": 5,
   "id": "e04af09c-a46e-446a-bbc2-e718667b7c44",
   "metadata": {},
   "outputs": [],
   "source": [
    "def test1(a,b):\n",
    "    return a*b"
   ]
  },
  {
   "cell_type": "code",
   "execution_count": 6,
   "id": "a9506d6f-7950-44af-acb9-eaf2598c89ed",
   "metadata": {},
   "outputs": [
    {
     "data": {
      "text/plain": [
       "12"
      ]
     },
     "execution_count": 6,
     "metadata": {},
     "output_type": "execute_result"
    }
   ],
   "source": [
    "test1(4,3)"
   ]
  },
  {
   "cell_type": "code",
   "execution_count": 7,
   "id": "0c81f045-82fd-4bb2-ad62-1bb05085aafc",
   "metadata": {},
   "outputs": [],
   "source": [
    "def test2(a,b):\n",
    "    if a==0:\n",
    "        print (\"invalid input\")\n",
    "    elif b==0:\n",
    "        print(\"invalid input\")\n",
    "    else:\n",
    "        return a/b"
   ]
  },
  {
   "cell_type": "code",
   "execution_count": 8,
   "id": "91829045-7c68-4a83-9812-23795d1225e6",
   "metadata": {},
   "outputs": [
    {
     "name": "stdout",
     "output_type": "stream",
     "text": [
      "invalid input\n"
     ]
    }
   ],
   "source": [
    "test2(10,0)"
   ]
  },
  {
   "cell_type": "code",
   "execution_count": 9,
   "id": "0bfe860c-9f32-4fe9-ada4-d9e7249add7c",
   "metadata": {},
   "outputs": [
    {
     "data": {
      "text/plain": [
       "5.0"
      ]
     },
     "execution_count": 9,
     "metadata": {},
     "output_type": "execute_result"
    }
   ],
   "source": [
    "test2(10,2)"
   ]
  },
  {
   "cell_type": "code",
   "execution_count": 15,
   "id": "ea0a084d-ad47-428a-841e-abf02fc7746a",
   "metadata": {},
   "outputs": [],
   "source": [
    "def test3(*a):\n",
    "    total = 0\n",
    "    for num in a:\n",
    "        total += num\n",
    "    return total"
   ]
  },
  {
   "cell_type": "code",
   "execution_count": 16,
   "id": "1ca0640c-8475-4700-9fb2-38ea19306f0a",
   "metadata": {},
   "outputs": [
    {
     "data": {
      "text/plain": [
       "15"
      ]
     },
     "execution_count": 16,
     "metadata": {},
     "output_type": "execute_result"
    }
   ],
   "source": [
    "test3(1,2,3,4,5)"
   ]
  },
  {
   "cell_type": "code",
   "execution_count": 26,
   "id": "ac32710f-c054-4f86-b3d6-b3b4809515e7",
   "metadata": {},
   "outputs": [],
   "source": [
    "def test4(*a):\n",
    "    product = 1 \n",
    "    for num in a:\n",
    "        product *= num\n",
    "    return product"
   ]
  },
  {
   "cell_type": "code",
   "execution_count": 27,
   "id": "c90b4b6b-f0f0-46a9-a947-b7702a481e9d",
   "metadata": {},
   "outputs": [
    {
     "data": {
      "text/plain": [
       "280"
      ]
     },
     "execution_count": 27,
     "metadata": {},
     "output_type": "execute_result"
    }
   ],
   "source": [
    "test4(2,4,5,7)"
   ]
  },
  {
   "cell_type": "code",
   "execution_count": 1,
   "id": "e32a11c1-52f0-4c28-aa54-f22835e27783",
   "metadata": {},
   "outputs": [],
   "source": [
    "def test(a,b,**c):\n",
    "    \n",
    "     operator = input(\"Enter the operator (+, -, *, /): \")\n",
    "     if operator == \"+\":\n",
    "         result = a+b\n",
    "         print(result)\n",
    "     elif operator == \"-\":\n",
    "         result = a-b\n",
    "         print(result)\n",
    "     elif operator == \"*\":\n",
    "         result = a*b\n",
    "         print(result)\n",
    "     elif operator == \"/\":\n",
    "        if b == 0:\n",
    "           print(\"error: zero is not allowed\")\n",
    "        else:\n",
    "           result=a/b\n",
    "           print(result)\n",
    "     else:\n",
    "        print(\"invite input\")"
   ]
  },
  {
   "cell_type": "code",
   "execution_count": 2,
   "id": "3faedf21-4bef-4c29-96af-18b40be6201f",
   "metadata": {},
   "outputs": [
    {
     "name": "stdin",
     "output_type": "stream",
     "text": [
      "Enter the operator (+, -, *, /):  *\n"
     ]
    },
    {
     "name": "stdout",
     "output_type": "stream",
     "text": [
      "585\n"
     ]
    }
   ],
   "source": [
    "test(9,65)"
   ]
  },
  {
   "cell_type": "code",
   "execution_count": null,
   "id": "713380b3-bb40-4b27-a802-f05ce793ba36",
   "metadata": {},
   "outputs": [],
   "source": [
    "def test(**a):\n",
    "    "
   ]
  }
 ],
 "metadata": {
  "kernelspec": {
   "display_name": "Python 3 (ipykernel)",
   "language": "python",
   "name": "python3"
  },
  "language_info": {
   "codemirror_mode": {
    "name": "ipython",
    "version": 3
   },
   "file_extension": ".py",
   "mimetype": "text/x-python",
   "name": "python",
   "nbconvert_exporter": "python",
   "pygments_lexer": "ipython3",
   "version": "3.13.2"
  }
 },
 "nbformat": 4,
 "nbformat_minor": 5
}
