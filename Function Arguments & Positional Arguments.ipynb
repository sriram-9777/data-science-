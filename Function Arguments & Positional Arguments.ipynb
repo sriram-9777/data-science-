{
 "cells": [
  {
   "cell_type": "code",
   "execution_count": 4,
   "id": "5a63c253-346c-40d0-98c8-0e3230a55f2f",
   "metadata": {},
   "outputs": [
    {
     "name": "stdout",
     "output_type": "stream",
     "text": [
      "sum is 78\n"
     ]
    }
   ],
   "source": [
    "def sri(a,b):\n",
    "    print(f\"sum is {a+b}\")\n",
    "sri(24,54)"
   ]
  },
  {
   "cell_type": "code",
   "execution_count": 5,
   "id": "2314dac5-502b-42b4-af47-02bb256214cb",
   "metadata": {},
   "outputs": [
    {
     "name": "stdout",
     "output_type": "stream",
     "text": [
      "hello sriram you are 21 yers old\n"
     ]
    }
   ],
   "source": [
    "def greet(name,age):\n",
    "    print(f\"hello {name} you are {age} yers old\")\n",
    "greet(name=\"sriram\", age=21)"
   ]
  },
  {
   "cell_type": "code",
   "execution_count": 6,
   "id": "4cc9b26d-0ef2-4985-9aa7-006b8afd7dd5",
   "metadata": {},
   "outputs": [
    {
     "name": "stdout",
     "output_type": "stream",
     "text": [
      "product is 10\n"
     ]
    }
   ],
   "source": [
    "def grat(a,b=2):\n",
    "    print(f\"product is {a*b}\")\n",
    "grat(5)"
   ]
  },
  {
   "cell_type": "code",
   "execution_count": 8,
   "id": "c3ae8b59-af98-44fd-b794-25e5d61d8611",
   "metadata": {},
   "outputs": [
    {
     "name": "stdout",
     "output_type": "stream",
     "text": [
      "Name:sriram , age:21 , country:USA\n"
     ]
    }
   ],
   "source": [
    "def info(name,age,country):\n",
    "    print(f\"Name:{name} , age:{age} , country:{country}\")\n",
    "info(name=\"sriram\",age=\"21\",country=\"USA\")"
   ]
  },
  {
   "cell_type": "code",
   "execution_count": 9,
   "id": "588ec24e-78b0-4f3d-948d-2cdae26cfa9a",
   "metadata": {},
   "outputs": [
    {
     "name": "stdout",
     "output_type": "stream",
     "text": [
      "15\n",
      "3\n"
     ]
    }
   ],
   "source": [
    "numbers = [10, 5, 8, 15, 3]\n",
    "max_value =max(numbers)\n",
    "min_value = min(numbers)\n",
    "print(max_value)\n",
    "print(min_value)"
   ]
  },
  {
   "cell_type": "code",
   "execution_count": 11,
   "id": "317598ef-4d29-4a7d-9815-07a2c1489ac4",
   "metadata": {},
   "outputs": [
    {
     "name": "stdout",
     "output_type": "stream",
     "text": [
      "15\n"
     ]
    }
   ],
   "source": [
    "numbers = [1, 2, 3, 4, 5]\n",
    "sum_num = sum(numbers)\n",
    "print(sum_num)"
   ]
  },
  {
   "cell_type": "code",
   "execution_count": 17,
   "id": "a6831934-62de-4296-abaa-c1a0374515fe",
   "metadata": {},
   "outputs": [
    {
     "name": "stdout",
     "output_type": "stream",
     "text": [
      "[2, 4, 6, 8, 10]\n"
     ]
    }
   ],
   "source": [
    "my_range = range(2,11,2)\n",
    "print(list(my_range))"
   ]
  },
  {
   "cell_type": "code",
   "execution_count": 28,
   "id": "21e2f760-d234-41d5-8741-697044a81e71",
   "metadata": {},
   "outputs": [
    {
     "name": "stdout",
     "output_type": "stream",
     "text": [
      "[1, 1, 2, 3, 4, 5, 6, 9]\n"
     ]
    }
   ],
   "source": [
    "numbers = [3,1,4,1,5,9,2,6]\n",
    "sorted_numbers = sorted(numbers)\n",
    "print(sorted_numbers)"
   ]
  },
  {
   "cell_type": "code",
   "execution_count": 29,
   "id": "7f6fdb89-0f6c-480c-975b-379cb76a74b4",
   "metadata": {},
   "outputs": [
    {
     "name": "stdout",
     "output_type": "stream",
     "text": [
      "13\n"
     ]
    }
   ],
   "source": [
    "text = \"hello , world\"\n",
    "length = len(text)\n",
    "print(length)"
   ]
  },
  {
   "cell_type": "code",
   "execution_count": 30,
   "id": "3c43d2e9-32d7-4a34-a803-f8ef3fe459ff",
   "metadata": {},
   "outputs": [
    {
     "name": "stdout",
     "output_type": "stream",
     "text": [
      "10\n"
     ]
    }
   ],
   "source": [
    "number =-10\n",
    "value = abs(number)\n",
    "print(value)"
   ]
  },
  {
   "cell_type": "code",
   "execution_count": 32,
   "id": "6a2e6869-1239-4839-b2fb-969b32cd9de7",
   "metadata": {},
   "outputs": [
    {
     "name": "stdout",
     "output_type": "stream",
     "text": [
      "False\n",
      "True\n"
     ]
    }
   ],
   "source": [
    "bool_list = [True,False,True,True]\n",
    "all_true = all(bool_list)\n",
    "any_true = any(bool_list)\n",
    "print(all_true)\n",
    "print(any_true)"
   ]
  }
 ],
 "metadata": {
  "kernelspec": {
   "display_name": "Python 3 (ipykernel)",
   "language": "python",
   "name": "python3"
  },
  "language_info": {
   "codemirror_mode": {
    "name": "ipython",
    "version": 3
   },
   "file_extension": ".py",
   "mimetype": "text/x-python",
   "name": "python",
   "nbconvert_exporter": "python",
   "pygments_lexer": "ipython3",
   "version": "3.13.2"
  }
 },
 "nbformat": 4,
 "nbformat_minor": 5
}
