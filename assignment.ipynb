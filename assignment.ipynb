{
 "cells": [
  {
   "cell_type": "code",
   "execution_count": 8,
   "id": "ea4570e7-a218-434a-bcfe-0f2f9aec5be8",
   "metadata": {},
   "outputs": [
    {
     "name": "stdin",
     "output_type": "stream",
     "text": [
      "enter the number: 7\n"
     ]
    },
    {
     "name": "stdout",
     "output_type": "stream",
     "text": [
      "7 is odd\n"
     ]
    }
   ],
   "source": [
    "num = int(input(\"enter the number:\"))\n",
    "if num%2==0:\n",
    "    print(num,\"is even\")\n",
    "else:\n",
    "    print(num,\"is odd\")"
   ]
  },
  {
   "cell_type": "code",
   "execution_count": 14,
   "id": "401b02d2-e320-4218-8155-c74c874b67bb",
   "metadata": {},
   "outputs": [
    {
     "name": "stdin",
     "output_type": "stream",
     "text": [
      "enter the number: 15\n",
      "enter the number: 22\n"
     ]
    },
    {
     "name": "stdout",
     "output_type": "stream",
     "text": [
      "22 is larger number\n"
     ]
    }
   ],
   "source": [
    "first_number = int(input(\"enter the number:\"))\n",
    "second_number = int(input(\"enter the number:\"))\n",
    "if first_number > second_number:\n",
    "    print(first_number,\"is larger number\")\n",
    "elif first_number < second_number:\n",
    "    print(second_number,\"is larger number\")\n",
    "else:\n",
    "    print(\"invalid input\")"
   ]
  },
  {
   "cell_type": "code",
   "execution_count": 15,
   "id": "440fb3b7-e6a4-4258-8fe4-a1cec0d82986",
   "metadata": {},
   "outputs": [
    {
     "name": "stdin",
     "output_type": "stream",
     "text": [
      "Enter a character:  a\n"
     ]
    },
    {
     "name": "stdout",
     "output_type": "stream",
     "text": [
      "Vowel\n"
     ]
    }
   ],
   "source": [
    "char = input(\"Enter a character: \")\n",
    "char = char.lower()\n",
    "\n",
    "if len(char) != 1:\n",
    "    print(\"Please enter a single character.\")\n",
    "elif char in ('a', 'e', 'i', 'o', 'u'):\n",
    "    print(\"Vowel\")\n",
    "elif 'a' <= char <= 'z': \n",
    "    print(\"Consonant\")\n",
    "else:\n",
    "    print(\"Invalid input\")"
   ]
  },
  {
   "cell_type": "code",
   "execution_count": 19,
   "id": "e91c2cb2-a478-470c-b34a-92be9235f517",
   "metadata": {},
   "outputs": [
    {
     "name": "stdin",
     "output_type": "stream",
     "text": [
      "Enter the grade:  a\n"
     ]
    },
    {
     "name": "stdout",
     "output_type": "stream",
     "text": [
      "pass\n"
     ]
    }
   ],
   "source": [
    "grade = input(\"Enter the grade: \") \n",
    "\n",
    "grade = grade.lower()  \n",
    "\n",
    "if grade in ('a', 'b', 'c', 'd'):\n",
    "    print(\"pass\")\n",
    "elif grade == 'f':\n",
    "    print(\"fail\")\n",
    "else:\n",
    "    print(\"invalid input\")"
   ]
  },
  {
   "cell_type": "code",
   "execution_count": 1,
   "id": "d61f3e82-4b51-4941-8f02-a2f86e7cbb7d",
   "metadata": {},
   "outputs": [
    {
     "name": "stdin",
     "output_type": "stream",
     "text": [
      "Enter a number:  655\n"
     ]
    },
    {
     "name": "stdout",
     "output_type": "stream",
     "text": [
      "Positive number\n"
     ]
    }
   ],
   "source": [
    "num = float(input(\"Enter a number: \"))\n",
    "\n",
    "if num > 0:\n",
    "  print(\"Positive number\")\n",
    "elif num == 0:\n",
    "  print(\"Zero\")\n",
    "else:\n",
    "  print(\"Negative number\")\n"
   ]
  },
  {
   "cell_type": "code",
   "execution_count": 2,
   "id": "d95567d6-d4b5-4175-88d9-8da4f2d6824e",
   "metadata": {},
   "outputs": [
    {
     "name": "stdin",
     "output_type": "stream",
     "text": [
      "enter a year: 2024\n"
     ]
    },
    {
     "name": "stdout",
     "output_type": "stream",
     "text": [
      "2024 is leap year\n"
     ]
    }
   ],
   "source": [
    "year = int(input(\"enter a year:\"))\n",
    "if (year % 4 == 0 and year % 100 != 0) or (year % 400 == 0):\n",
    "    print(year, \"is leap year\")\n",
    "else:\n",
    "    print(year, \"is not a leap year\")"
   ]
  },
  {
   "cell_type": "code",
   "execution_count": 3,
   "id": "098056fc-e8b4-4aa9-97e1-86fe949bfff4",
   "metadata": {},
   "outputs": [
    {
     "name": "stdin",
     "output_type": "stream",
     "text": [
      "Enter your age:  22\n"
     ]
    },
    {
     "name": "stdout",
     "output_type": "stream",
     "text": [
      "You are eligible to vote\n"
     ]
    }
   ],
   "source": [
    "age = int(input(\"Enter your age: \"))\n",
    "if age >= 18:\n",
    "    print(\"You are eligible to vote\")\n",
    "else:\n",
    "    print(\"You are not eligible to vote\")"
   ]
  },
  {
   "cell_type": "code",
   "execution_count": 4,
   "id": "ec1b06ef-4301-451d-9881-ddc33bd40fdd",
   "metadata": {},
   "outputs": [
    {
     "name": "stdin",
     "output_type": "stream",
     "text": [
      "enter marks: 75\n"
     ]
    },
    {
     "name": "stdout",
     "output_type": "stream",
     "text": [
      "Grade: C\n"
     ]
    }
   ],
   "source": [
    "student = int(input(\"enter marks:\"))\n",
    "if student >= 90:\n",
    "    print(\"Grade: A\")\n",
    "elif student >= 80:\n",
    "    print(\"Grade: B\")\n",
    "elif student >= 70:\n",
    "    print(\"Grade: C\")\n",
    "elif student >= 60:\n",
    "    print(\"Grade: D\")\n",
    "else:\n",
    "    print(\"Grade: F\")"
   ]
  },
  {
   "cell_type": "code",
   "execution_count": 5,
   "id": "8feef2cc-d39b-413f-bd5d-4912020f64e1",
   "metadata": {},
   "outputs": [
    {
     "name": "stdin",
     "output_type": "stream",
     "text": [
      "enter a number: 2586\n"
     ]
    },
    {
     "name": "stdout",
     "output_type": "stream",
     "text": [
      "2586 is even\n"
     ]
    }
   ],
   "source": [
    "num = int(input(\"enter a number:\"))\n",
    "if num % 2 == 0:\n",
    "    print(num, \"is even\")\n",
    "else:\n",
    "    print(num, \"is odd\")"
   ]
  },
  {
   "cell_type": "code",
   "execution_count": 6,
   "id": "da7cfe84-3b86-405b-9251-9720acf5c642",
   "metadata": {},
   "outputs": [
    {
     "name": "stdin",
     "output_type": "stream",
     "text": [
      "Enter first number:  25\n",
      "Enter second number:  12\n",
      "Enter third number:  111\n"
     ]
    },
    {
     "name": "stdout",
     "output_type": "stream",
     "text": [
      "111 is largest\n"
     ]
    }
   ],
   "source": [
    "num1 = int(input(\"Enter first number: \"))\n",
    "num2 = int(input(\"Enter second number: \"))\n",
    "num3 = int(input(\"Enter third number: \"))\n",
    "if num1 >= num2 and num1 >= num3:\n",
    "    print(num1, \"is largest\")\n",
    "elif num2 >= num1 and num2 >= num3:\n",
    "    print(num2, \"is largest\")\n",
    "else:\n",
    "    print(num3, \"is largest\")"
   ]
  },
  {
   "cell_type": "code",
   "execution_count": 7,
   "id": "12e2d099-9ebe-4737-8155-128b7dbee58c",
   "metadata": {},
   "outputs": [
    {
     "name": "stdin",
     "output_type": "stream",
     "text": [
      "Enter password:  password123\n"
     ]
    },
    {
     "name": "stdout",
     "output_type": "stream",
     "text": [
      "Password is correct\n"
     ]
    }
   ],
   "source": [
    "password = \"password123\"\n",
    "input_password = input(\"Enter password: \")\n",
    "if input_password == password:\n",
    "    print(\"Password is correct\")\n",
    "else:\n",
    "    print(\"Password is incorrect\")"
   ]
  },
  {
   "cell_type": "code",
   "execution_count": 7,
   "id": "6ae7e16e-05aa-41ac-9d2e-9834b9964696",
   "metadata": {},
   "outputs": [
    {
     "name": "stdin",
     "output_type": "stream",
     "text": [
      "Enter total purchase amount: $ 12000\n"
     ]
    },
    {
     "name": "stdout",
     "output_type": "stream",
     "text": [
      "10800.0\n"
     ]
    }
   ],
   "source": [
    " discount_percentage = 10\n",
    "discount_threshold = 1000\n",
    "purchase = float(input(\"Enter total purchase amount: $\"))\n",
    "\n",
    "if purchase < 0:\n",
    "    print(\"Amount cannot be negative.\")\n",
    "else:\n",
    "       if purchase > discount_threshold:\n",
    "           discount_amount = (discount_percentage / 100) * purchase\n",
    "           final_amount = purchase - discount_amount\n",
    "           print(final_amount)\n",
    "       else:\n",
    "          final_amount=purchase\n",
    "          print(final_amount)"
   ]
  },
  {
   "cell_type": "code",
   "execution_count": 28,
   "id": "c4721b18-4e4e-421a-ae72-f4ffc1b8a8b7",
   "metadata": {},
   "outputs": [
    {
     "name": "stdin",
     "output_type": "stream",
     "text": [
      "Enter the length of the first side of the triangle:  12\n",
      "Enter the length of the second side of the triangle:  14\n",
      "Enter the length of the third side of the triangle:  18\n"
     ]
    },
    {
     "name": "stdout",
     "output_type": "stream",
     "text": [
      "It is a triangle\n",
      "It is a scalene triangle\n"
     ]
    }
   ],
   "source": [
    "a = float(input(\"Enter the length of the first side of the triangle: \"))\n",
    "b = float(input(\"Enter the length of the second side of the triangle: \"))\n",
    "c = float(input(\"Enter the length of the third side of the triangle: \"))\n",
    "\n",
    "if a + b > c and a + c > b and b + c > a:\n",
    "    print(\"It is a triangle\")\n",
    "\n",
    "    if a == b == c:\n",
    "        print(\"It is an equilateral triangle\")\n",
    "    elif a == b or a == c or b == c:\n",
    "        print(\"It is an isosceles triangle\")\n",
    "    else: \n",
    "        print(\"It is a scalene triangle\")\n",
    "\n",
    "else: \n",
    "    print(\"It is not a triangle\")"
   ]
  },
  {
   "cell_type": "code",
   "execution_count": 11,
   "id": "95d70316-3c90-4c10-bf74-3b0c5db8c8c9",
   "metadata": {},
   "outputs": [
    {
     "name": "stdin",
     "output_type": "stream",
     "text": [
      "enter the number: 55\n"
     ]
    },
    {
     "name": "stdout",
     "output_type": "stream",
     "text": [
      "55 is divisible by 5 & 11\n"
     ]
    }
   ],
   "source": [
    "num =int(input(\"enter the number:\"))\n",
    "if num%5==0 and num%11==0:\n",
    "    print(num,\"is divisible by 5 & 11\")\n",
    "elif num%5==0:\n",
    "    print(num,\"is divisible by 5 but not 11\")\n",
    "elif num%11==0:\n",
    "    print(num,\"is divisible by 11 but not 5\")\n",
    "else:\n",
    "    print(num,\"is not divisible by 5 & 11\")\n"
   ]
  },
  {
   "cell_type": "code",
   "execution_count": 32,
   "id": "1d426a59-7b6d-4aa1-a0e3-73435595977e",
   "metadata": {},
   "outputs": [
    {
     "name": "stdin",
     "output_type": "stream",
     "text": [
      "enter the attendance percentage of the student:% 85\n"
     ]
    },
    {
     "name": "stdout",
     "output_type": "stream",
     "text": [
      "student is Eligibil to write exam\n"
     ]
    }
   ],
   "source": [
    "student1 = int(input(\"enter the attendance percentage of the student:%\"))\n",
    "if student1 >= 75:\n",
    "    print(\"student is Eligibil to write exam\")\n",
    "else:\n",
    "    print(\"student is not Eligibil to write the exam\")"
   ]
  },
  {
   "cell_type": "code",
   "execution_count": 33,
   "id": "ef1c4e52-3c69-4db0-8a36-94b3f632f17c",
   "metadata": {},
   "outputs": [
    {
     "name": "stdin",
     "output_type": "stream",
     "text": [
      "enter the temperature: c 25\n"
     ]
    },
    {
     "name": "stdout",
     "output_type": "stream",
     "text": [
      "the weather is pleasant\n"
     ]
    }
   ],
   "source": [
    "t = float(input(\"enter the temperature: c\"))\n",
    "if t > 30:\n",
    "    print(\"the weather is so hot\")\n",
    "elif t<=30 or t>=15:\n",
    "    print(\"the weather is pleasant\")\n",
    "else:\n",
    "    print (\"the wether is so cool\")"
   ]
  },
  {
   "cell_type": "code",
   "execution_count": 34,
   "id": "6020a554-00c7-45f7-a847-a66c3d71c297",
   "metadata": {},
   "outputs": [
    {
     "name": "stdin",
     "output_type": "stream",
     "text": [
      "enter the number: 99\n"
     ]
    },
    {
     "name": "stdout",
     "output_type": "stream",
     "text": [
      "99 is not in the range\n"
     ]
    }
   ],
   "source": [
    "num= int(input(\"enter the number:\"))\n",
    "if 0 <= num >= 100:\n",
    "    print(num,\"is in the range\")\n",
    "else:\n",
    "    print (num, \"is not in the range\")"
   ]
  },
  {
   "cell_type": "code",
   "execution_count": 5,
   "id": "eafeb0dd-79bc-4b14-aac7-616ea86238f6",
   "metadata": {},
   "outputs": [
    {
     "name": "stdin",
     "output_type": "stream",
     "text": [
      "enter the number: 2\n",
      "enter the number: 0\n",
      "enter the operator(+,-,*,/): /\n"
     ]
    },
    {
     "name": "stdout",
     "output_type": "stream",
     "text": [
      "error: zero is not allowed\n"
     ]
    }
   ],
   "source": [
    "num1 = float(input(\"enter the number:\"))\n",
    "num2 = float(input(\"enter the number:\"))\n",
    "operator = input(\"enter the operator(+,-,*,/):\")\n",
    "if operator == \"+\":\n",
    "    result = num1+num2\n",
    "    print(result)\n",
    "elif operator == \"-\":\n",
    "    result = num1-num2\n",
    "    print(result)\n",
    "elif operator == \"*\":\n",
    "    result = num1*num2\n",
    "    print(result)\n",
    "elif operator == \"/\":\n",
    "    if num1 == 0 or num2 == 0:\n",
    "        print(\"error: zero is not allowed\")\n",
    "    else:\n",
    "        result=num1/num2\n",
    "        print(result)\n",
    "else:\n",
    "    print(\"invite input\")"
   ]
  },
  {
   "cell_type": "code",
   "execution_count": 6,
   "id": "21b23ce4-a561-49e0-9f4b-7ef4a6124268",
   "metadata": {},
   "outputs": [
    {
     "name": "stdin",
     "output_type": "stream",
     "text": [
      "enter the year: 2029\n"
     ]
    },
    {
     "name": "stdout",
     "output_type": "stream",
     "text": [
      "2029 is odd\n"
     ]
    }
   ],
   "source": [
    "year = int(input(\"enter the year:\"))\n",
    "if year%2==0:\n",
    "    print(year,\"is even\")\n",
    "else:\n",
    "    print(year,\"is odd\")"
   ]
  }
 ],
 "metadata": {
  "kernelspec": {
   "display_name": "Python 3 (ipykernel)",
   "language": "python",
   "name": "python3"
  },
  "language_info": {
   "codemirror_mode": {
    "name": "ipython",
    "version": 3
   },
   "file_extension": ".py",
   "mimetype": "text/x-python",
   "name": "python",
   "nbconvert_exporter": "python",
   "pygments_lexer": "ipython3",
   "version": "3.13.2"
  }
 },
 "nbformat": 4,
 "nbformat_minor": 5
}
