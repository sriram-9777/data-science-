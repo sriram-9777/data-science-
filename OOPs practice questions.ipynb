{
 "cells": [
  {
   "cell_type": "markdown",
   "id": "9ffa02c9-4878-473a-be51-febe230e129d",
   "metadata": {},
   "source": [
    " Create a class Car with attributes brand, model, and year. Instantiate an object of this class and print its attributes."
   ]
  },
  {
   "cell_type": "code",
   "execution_count": 4,
   "id": "72be01a7-4783-49be-b44a-8aa042e4ba59",
   "metadata": {},
   "outputs": [],
   "source": [
    "class Car:\n",
    "    def __init__(self,brand,model,year):\n",
    "        self.brand = brand\n",
    "        self.model = model\n",
    "        self.year = year"
   ]
  },
  {
   "cell_type": "code",
   "execution_count": 5,
   "id": "5b8a3b1c-be01-40b0-a011-a0661927dab4",
   "metadata": {},
   "outputs": [],
   "source": [
    "car1 = Car(\"BMW\",\"iX1 LONG WHEELBASE\",2025)"
   ]
  },
  {
   "cell_type": "code",
   "execution_count": 8,
   "id": "c9d37f38-f4fc-4cd7-82cf-e36ab0f4f8ec",
   "metadata": {},
   "outputs": [
    {
     "data": {
      "text/plain": [
       "'BMW'"
      ]
     },
     "execution_count": 8,
     "metadata": {},
     "output_type": "execute_result"
    }
   ],
   "source": [
    "car1.brand"
   ]
  },
  {
   "cell_type": "markdown",
   "id": "264a2996-709e-489f-bfad-9b2fde9df191",
   "metadata": {},
   "source": [
    " Modify the Car class to include a constructor (__init__) that initializes brand, model, and year when an object is created"
   ]
  },
  {
   "cell_type": "code",
   "execution_count": 13,
   "id": "1dd0e092-4648-4309-9917-7ead302a536e",
   "metadata": {},
   "outputs": [],
   "source": [
    "class Car:\n",
    "    def __init__(self,brand,model,year):\n",
    "        self.brand = brand\n",
    "        self.model = model\n",
    "        self.year = year"
   ]
  },
  {
   "cell_type": "code",
   "execution_count": 15,
   "id": "d25a3912-df95-4d2a-920c-354907d8e50b",
   "metadata": {},
   "outputs": [],
   "source": [
    "new_car = Car(\"audi\",\"abc\",2025)"
   ]
  },
  {
   "cell_type": "code",
   "execution_count": 17,
   "id": "f38faca0-ffc2-4db7-8666-40bb7381829c",
   "metadata": {},
   "outputs": [
    {
     "data": {
      "text/plain": [
       "'audi'"
      ]
     },
     "execution_count": 17,
     "metadata": {},
     "output_type": "execute_result"
    }
   ],
   "source": [
    "new_car.brand"
   ]
  },
  {
   "cell_type": "markdown",
   "id": "a592038d-644e-4399-943a-30dcbfb73778",
   "metadata": {},
   "source": [
    "Add a method car_info() in the Car class that prints details of the car. Create multiple car objects and call this method."
   ]
  },
  {
   "cell_type": "code",
   "execution_count": 26,
   "id": "b0f399d5-17b8-4883-8698-eb0088a24872",
   "metadata": {},
   "outputs": [],
   "source": [
    "class Car():\n",
    "    def __init__(self,brand,model,year):\n",
    "        self.brand = brand\n",
    "        self.model = model\n",
    "        self.year = year\n",
    "    def car_info(self):\n",
    "        print(\"car detiles\")\n",
    "        print(\"brand:\",self.brand)\n",
    "        print(\"model:\",self.model)\n",
    "        print(\"year:\",self.year)"
   ]
  },
  {
   "cell_type": "code",
   "execution_count": 27,
   "id": "3d6d72e6-78cf-4e69-be3a-c69ce440d44b",
   "metadata": {},
   "outputs": [],
   "source": [
    "car1 = Car(\"BMW\",\"xyz\",2025)\n",
    "car2 = Car(\"Aubi\",\"abc\",2024)"
   ]
  },
  {
   "cell_type": "code",
   "execution_count": 28,
   "id": "723fa3d0-b395-4786-b5ba-a2dbcf3ad40c",
   "metadata": {},
   "outputs": [
    {
     "name": "stdout",
     "output_type": "stream",
     "text": [
      "car detiles\n",
      "brand: BMW\n",
      "model: xyz\n",
      "year: 2025\n"
     ]
    }
   ],
   "source": [
    "car1.car_info()"
   ]
  },
  {
   "cell_type": "markdown",
   "id": "90305b10-b594-4974-a23b-64273ddb166f",
   "metadata": {},
   "source": [
    "Add a class variable total_cars that keeps track of how many car objects are created. Implement a class method to return the count."
   ]
  },
  {
   "cell_type": "code",
   "execution_count": 37,
   "id": "d464a0d8-476a-4fab-85e2-f6bc8ba358e3",
   "metadata": {},
   "outputs": [],
   "source": [
    "class Car():\n",
    "    total_cars = 0\n",
    "    def __init__(self,brand,model,year,colour):\n",
    "        self.brand = brand\n",
    "        self.model = model\n",
    "        self.year = year\n",
    "        self.colour = colour\n",
    "    def car_info(self):\n",
    "        print(\"car detiles\")\n",
    "        print(\"brand:\", self.brand)\n",
    "        print(\"model:\",self.model)\n",
    "        print(\"year:\",self.year)\n",
    "        print(\"colour:\",self.colour)"
   ]
  },
  {
   "cell_type": "code",
   "execution_count": 38,
   "id": "c8779c20-f35c-4c22-b56f-7187e8178969",
   "metadata": {},
   "outputs": [],
   "source": [
    "car1 = Car(\"BMW\",\"ABC\",2025,\"red\")"
   ]
  },
  {
   "cell_type": "code",
   "execution_count": 39,
   "id": "6e3e263f-d63b-4a47-ab4b-3ac05e1d79ea",
   "metadata": {},
   "outputs": [
    {
     "name": "stdout",
     "output_type": "stream",
     "text": [
      "car detiles\n",
      "brand: BMW\n",
      "model: ABC\n",
      "year: 2025\n",
      "colour: red\n"
     ]
    }
   ],
   "source": [
    "car1.car_info()"
   ]
  },
  {
   "cell_type": "markdown",
   "id": "2770c177-86f9-452a-ad37-558d2b2482f2",
   "metadata": {},
   "source": [
    "Modify the Car class by making the year attribute private and provide getter and setter methods to access and modify it."
   ]
  },
  {
   "cell_type": "code",
   "execution_count": 40,
   "id": "a9f5aa10-675f-4db0-a61e-ae891003df8f",
   "metadata": {},
   "outputs": [],
   "source": [
    "class Car():\n",
    "    total_cars = 0\n",
    "    def __init__(self,brand,model,year,colour):\n",
    "        self._brand = brand\n",
    "        self._model = model\n",
    "        self._year = year\n",
    "        self._colour = colour\n",
    "    def car_info(self):\n",
    "        print(\"car detiles\")\n",
    "        print(\"brand:\", self._brand)\n",
    "        print(\"model:\",self._model)\n",
    "        print(\"year:\",self._year)\n",
    "        print(\"colour:\",self._colour)"
   ]
  },
  {
   "cell_type": "code",
   "execution_count": 41,
   "id": "2fa7a414-2283-4b62-9464-160f5397d544",
   "metadata": {},
   "outputs": [],
   "source": [
    "car1 = Car(\"BMW\",\"ABC\",2025,\"red\")"
   ]
  },
  {
   "cell_type": "code",
   "execution_count": 42,
   "id": "59f3eb7a-be00-4d43-a4f9-f60868961f2a",
   "metadata": {},
   "outputs": [
    {
     "name": "stdout",
     "output_type": "stream",
     "text": [
      "car detiles\n",
      "brand: BMW\n",
      "model: ABC\n",
      "year: 2025\n",
      "colour: red\n"
     ]
    }
   ],
   "source": [
    "car1.car_info()"
   ]
  },
  {
   "cell_type": "code",
   "execution_count": 43,
   "id": "4a813b20-de33-4dc9-ba8b-e2487ce18fe2",
   "metadata": {},
   "outputs": [],
   "source": [
    "class Car():\n",
    "    total_cars = 0\n",
    "    def __init__(self,brand,model,year,colour):\n",
    "        self.__brand = brand\n",
    "        self.__model = model\n",
    "        self.__year = year\n",
    "        self.__colour = colour\n",
    "    def car_info(self):\n",
    "        print(\"car detiles\")\n",
    "        print(\"brand:\", self.__brand)\n",
    "        print(\"model:\",self.__model)\n",
    "        print(\"year:\",self.__year)\n",
    "        print(\"colour:\",self.__colour)"
   ]
  },
  {
   "cell_type": "code",
   "execution_count": 44,
   "id": "b74253f8-8d7d-4477-bc6a-fccd023e350d",
   "metadata": {},
   "outputs": [],
   "source": [
    "car1 = Car(\"BMW\",\"ABC\",2025,\"red\")"
   ]
  },
  {
   "cell_type": "code",
   "execution_count": 45,
   "id": "83fa5c8d-0b3e-4779-9ae2-3adf396d46e4",
   "metadata": {},
   "outputs": [
    {
     "name": "stdout",
     "output_type": "stream",
     "text": [
      "car detiles\n",
      "brand: BMW\n",
      "model: ABC\n",
      "year: 2025\n",
      "colour: red\n"
     ]
    }
   ],
   "source": [
    "car1.car_info()"
   ]
  },
  {
   "cell_type": "markdown",
   "id": "b1f9db11-29a2-458a-aad6-4dcf634cd74f",
   "metadata": {},
   "source": [
    "Create a subclass ElectricCar that inherits from Car and adds an extra attribute battery_capacity. Override the car_info() method to include battery details"
   ]
  },
  {
   "cell_type": "code",
   "execution_count": 52,
   "id": "35aa2ab6-88b3-47cf-854d-39b173e84927",
   "metadata": {},
   "outputs": [],
   "source": [
    "class Car:\n",
    "    def  __init__(self,brand,model,speed):\n",
    "        self.brand = brand\n",
    "        self.model = model\n",
    "        self.speed = speed\n",
    "    def car_info (self):\n",
    "        print(f\"brand:{self.brand}\")\n",
    "        print(f\"model:{self.model}\")\n",
    "        print(f\"speed:{self.speed}\")\n",
    "class Electriccar(Car):\n",
    "    def __init__(self,brand,model,speed,battery_capacity):\n",
    "        super().__init__(brand,model,speed)\n",
    "        self.battery_capacity = battery_capacity\n",
    "    def car_info (self):\n",
    "        print(f\"battery_capacity:{self.battery_capacity}\")\n",
    "    def __str__(self):\n",
    "        print(f\"{self.battery_capacity}\")"
   ]
  },
  {
   "cell_type": "code",
   "execution_count": 53,
   "id": "8171ede6-5b19-46f0-88e1-51fce9a7c514",
   "metadata": {},
   "outputs": [
    {
     "name": "stdout",
     "output_type": "stream",
     "text": [
      "brand:bmw\n",
      "model:xyz\n",
      "speed:200\n",
      "battery_capacity:2000\n"
     ]
    }
   ],
   "source": [
    "car1 = Car(\"bmw\",\"xyz\",200)\n",
    "ele_car = Electriccar(\"tata\",\"abc\",150,2000)\n",
    "car1.car_info()\n",
    "ele_car.car_info()"
   ]
  },
  {
   "cell_type": "markdown",
   "id": "9e4faee2-d824-4ccd-a2ee-8fd01cc67032",
   "metadata": {},
   "source": [
    " Create two classes, Dog and Cat, both having a method make_sound(). Implement polymorphism by calling the method using a loop over a list of different objects."
   ]
  },
  {
   "cell_type": "code",
   "execution_count": 55,
   "id": "f27d7d9c-faa4-41ee-9dd7-bc4ba2de3bcf",
   "metadata": {},
   "outputs": [],
   "source": [
    "class Animal:\n",
    "    def speak(self):\n",
    "        print(\"animal makes a sound\")\n",
    "class Dog(Animal):\n",
    "    def speak(self):\n",
    "        print(\"dog barks\")\n",
    "class Cat(Animal):\n",
    "    def speak(self):\n",
    "        print(\"cat meows\")"
   ]
  },
  {
   "cell_type": "code",
   "execution_count": 56,
   "id": "3700d93d-c484-42d1-ade2-9010bee8a428",
   "metadata": {},
   "outputs": [],
   "source": [
    "dog = Dog()\n",
    "cat = Cat()"
   ]
  },
  {
   "cell_type": "code",
   "execution_count": 57,
   "id": "3d76ab11-bbdc-4412-ab0c-facc7641baa0",
   "metadata": {},
   "outputs": [
    {
     "name": "stdout",
     "output_type": "stream",
     "text": [
      "dog barks\n",
      "cat meows\n"
     ]
    }
   ],
   "source": [
    "dog.speak()\n",
    "cat.speak()"
   ]
  },
  {
   "cell_type": "markdown",
   "id": "7766c29d-c790-423f-b8a6-6a84817ef5ba",
   "metadata": {},
   "source": [
    " Create a BankAccount class with a method get_interest_rate() that returns 5%. Create a subclass SavingsAccount that overrides the method to return 7%."
   ]
  },
  {
   "cell_type": "code",
   "execution_count": 59,
   "id": "1a80df2a-9014-4327-b7e3-00b605d59fcb",
   "metadata": {},
   "outputs": [],
   "source": [
    "class Bank_account:\n",
    "    def get_interest_rate(self):\n",
    "        return 0.05 \n",
    "\n",
    "class Savings_account(Bank_account):\n",
    "    def get_interest_rate(self):\n",
    "        return 0.07 \n"
   ]
  },
  {
   "cell_type": "code",
   "execution_count": 63,
   "id": "459ba2ff-5e68-4648-a4ee-8db07e7d4726",
   "metadata": {},
   "outputs": [
    {
     "name": "stdout",
     "output_type": "stream",
     "text": [
      "bank_account:5.0%\n",
      "sevings_account:7.000000000000001%\n"
     ]
    }
   ],
   "source": [
    "bank = Bank_account()\n",
    "savings =Savings_account()\n",
    "print(f\"bank_account:{bank.get_interest_rate()*100}%\")\n",
    "print(f\"sevings_account:{savings.get_interest_rate()*100}%\")"
   ]
  },
  {
   "cell_type": "markdown",
   "id": "e45da245-7be1-44a2-a523-32f634c8e501",
   "metadata": {},
   "source": [
    "Create an abstract class Shape with an abstract method area(). Then, create subclasses Circle and Rectangle that implement the area() method."
   ]
  },
  {
   "cell_type": "code",
   "execution_count": 65,
   "id": "5da6f01e-a460-427a-a237-90da0e237c29",
   "metadata": {},
   "outputs": [],
   "source": [
    "from abc import ABC, abstractmethod\n",
    "\n",
    "class Shape(ABC):\n",
    "    @abstractmethod\n",
    "    def area(self):\n",
    "        return 0\n",
    "\n",
    "class Circle(Shape):\n",
    "    def __init__(self, radius):\n",
    "        self.radius = radius\n",
    "    \n",
    "    def area(self):\n",
    "        return 3.14159 * self.radius * self.radius\n",
    "\n",
    "class Rectangle(Shape):\n",
    "    def __init__(self, width, height):\n",
    "        self.width = width\n",
    "        self.height = height\n",
    "    \n",
    "    def area(self):\n",
    "        return self.width * self.height"
   ]
  },
  {
   "cell_type": "code",
   "execution_count": 66,
   "id": "0f9d055f-eef0-4bf7-97f1-4bf1e84b9284",
   "metadata": {},
   "outputs": [
    {
     "name": "stdout",
     "output_type": "stream",
     "text": [
      "Circle Area: 78.53975\n",
      "Rectangle Area: 24\n"
     ]
    }
   ],
   "source": [
    "circle = Circle(5)\n",
    "rectangle = Rectangle(4, 6)\n",
    "\n",
    "print(\"Circle Area:\", circle.area())\n",
    "print(\"Rectangle Area:\", rectangle.area())"
   ]
  },
  {
   "cell_type": "markdown",
   "id": "334cdbca-344b-47a0-ab2a-5399582acdfc",
   "metadata": {},
   "source": [
    "Overload the + operator for a Vector class to allow adding two vectors"
   ]
  },
  {
   "cell_type": "code",
   "execution_count": 72,
   "id": "981bf044-6202-4cd2-ad17-ad433158381b",
   "metadata": {},
   "outputs": [],
   "source": [
    "class Student :\n",
    "    def __init__(self,m1,m2) :\n",
    "        self.m1=m1\n",
    "        self.m2=m2\n",
    "\n",
    "    def __add__(self,other) :\n",
    "        m1=self.m1+other.m1\n",
    "        m2=self.m2+other.m2\n",
    "        s3=Student(m1,m2)\n",
    "        return s3"
   ]
  },
  {
   "cell_type": "code",
   "execution_count": 74,
   "id": "77341dad-a4d7-465b-b272-220ac34c65da",
   "metadata": {},
   "outputs": [],
   "source": [
    "s1 = Student(12,15)\n",
    "s2 = Student(10,18)\n",
    "s3 = s1+s2"
   ]
  },
  {
   "cell_type": "code",
   "execution_count": 75,
   "id": "f7f349c6-89d1-4576-b59f-77481a2e294c",
   "metadata": {},
   "outputs": [
    {
     "data": {
      "text/plain": [
       "(22, 33)"
      ]
     },
     "execution_count": 75,
     "metadata": {},
     "output_type": "execute_result"
    }
   ],
   "source": [
    "s3.m1,s3.m2"
   ]
  }
 ],
 "metadata": {
  "kernelspec": {
   "display_name": "Python 3 (ipykernel)",
   "language": "python",
   "name": "python3"
  },
  "language_info": {
   "codemirror_mode": {
    "name": "ipython",
    "version": 3
   },
   "file_extension": ".py",
   "mimetype": "text/x-python",
   "name": "python",
   "nbconvert_exporter": "python",
   "pygments_lexer": "ipython3",
   "version": "3.13.2"
  }
 },
 "nbformat": 4,
 "nbformat_minor": 5
}
