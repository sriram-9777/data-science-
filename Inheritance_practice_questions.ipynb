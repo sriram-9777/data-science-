{
 "cells": [
  {
   "cell_type": "markdown",
   "id": "731bbb20-fae6-47c7-b669-9fe82524e7dd",
   "metadata": {},
   "source": [
    "Write a simple program demonstrating single inheritance in Python."
   ]
  },
  {
   "cell_type": "code",
   "execution_count": 8,
   "id": "e5c0196a-9b64-42cb-9837-7ea393092e6d",
   "metadata": {},
   "outputs": [],
   "source": [
    "class student():\n",
    "    def __init__(self,name,id,branch):\n",
    "        self.name = name\n",
    "        self.id = id\n",
    "        self.branch = branch"
   ]
  },
  {
   "cell_type": "code",
   "execution_count": 9,
   "id": "c87bf599-df49-424f-8203-cf16edb6934d",
   "metadata": {},
   "outputs": [],
   "source": [
    "stu1 = student(\"sriram\",1295,\"IT\")"
   ]
  },
  {
   "cell_type": "code",
   "execution_count": 10,
   "id": "d9bca785-934b-4790-a35f-2b833645efff",
   "metadata": {},
   "outputs": [
    {
     "data": {
      "text/plain": [
       "'IT'"
      ]
     },
     "execution_count": 10,
     "metadata": {},
     "output_type": "execute_result"
    }
   ],
   "source": [
    "stu1.branch"
   ]
  },
  {
   "cell_type": "code",
   "execution_count": 11,
   "id": "3c239df3-6509-4482-b0ef-592b166d7b33",
   "metadata": {},
   "outputs": [],
   "source": [
    "class STUDENT(student):\n",
    "    pass"
   ]
  },
  {
   "cell_type": "code",
   "execution_count": 12,
   "id": "f2bc095c-bc27-46e1-93fc-23d38adc719d",
   "metadata": {},
   "outputs": [],
   "source": [
    "stu2 = STUDENT(\"narasimha\",1260,\"CSE\")"
   ]
  },
  {
   "cell_type": "code",
   "execution_count": 13,
   "id": "90eb5234-54cb-4c5f-9202-66d9cbfb697c",
   "metadata": {},
   "outputs": [
    {
     "data": {
      "text/plain": [
       "'narasimha'"
      ]
     },
     "execution_count": 13,
     "metadata": {},
     "output_type": "execute_result"
    }
   ],
   "source": [
    "stu2.name"
   ]
  },
  {
   "cell_type": "markdown",
   "id": "9d2bae4d-bc49-49df-a7d3-67ab9c961816",
   "metadata": {},
   "source": [
    "Create a program where a Vehicle class is inherited by a Car class."
   ]
  },
  {
   "cell_type": "code",
   "execution_count": 23,
   "id": "8eb7cc19-253b-47fb-84e7-6fd751371def",
   "metadata": {},
   "outputs": [],
   "source": [
    "class Car():\n",
    "    def __init__(self,brand,windows,doors,color):\n",
    "        self.brand=brand\n",
    "        self.windows=windows\n",
    "        self.doors=doors\n",
    "        self.color=color"
   ]
  },
  {
   "cell_type": "code",
   "execution_count": 24,
   "id": "eed901eb-f8e8-4e2a-9db0-9901074218dc",
   "metadata": {},
   "outputs": [],
   "source": [
    "car1 = Car(\"BMW\",4,5,\"red\")"
   ]
  },
  {
   "cell_type": "code",
   "execution_count": 25,
   "id": "415e6bf3-585b-4e32-b306-8739bec370b9",
   "metadata": {},
   "outputs": [
    {
     "data": {
      "text/plain": [
       "'BMW'"
      ]
     },
     "execution_count": 25,
     "metadata": {},
     "output_type": "execute_result"
    }
   ],
   "source": [
    "car1.brand"
   ]
  },
  {
   "cell_type": "code",
   "execution_count": 26,
   "id": "f0ffbd5f-17a6-4948-9239-8879c0f733e9",
   "metadata": {},
   "outputs": [],
   "source": [
    "class Vehicale(Car):\n",
    "    pass\n",
    "    "
   ]
  },
  {
   "cell_type": "code",
   "execution_count": 27,
   "id": "80f6d952-7656-47ca-9f7b-493782c7d72e",
   "metadata": {},
   "outputs": [],
   "source": [
    "car2 = Vehicale(\"audi\",4,5,\"blue\")"
   ]
  },
  {
   "cell_type": "code",
   "execution_count": 28,
   "id": "1ba4efe0-076f-4c8b-9107-3a71b4530a00",
   "metadata": {},
   "outputs": [
    {
     "data": {
      "text/plain": [
       "'blue'"
      ]
     },
     "execution_count": 28,
     "metadata": {},
     "output_type": "execute_result"
    }
   ],
   "source": [
    "car2.color"
   ]
  },
  {
   "cell_type": "markdown",
   "id": "94c8d400-80c0-44a7-b4de-1c4cb268716d",
   "metadata": {},
   "source": [
    "Implement multiple inheritance with an example."
   ]
  },
  {
   "cell_type": "code",
   "execution_count": 33,
   "id": "0f080a75-0508-41de-a4aa-0adf124cbe83",
   "metadata": {},
   "outputs": [
    {
     "name": "stdout",
     "output_type": "stream",
     "text": [
      "in student4\n",
      "in student2\n",
      "in student1\n",
      "in strudent3\n"
     ]
    }
   ],
   "source": [
    "class Student1():\n",
    "    def s(self):\n",
    "        print(\"in student1\")\n",
    "class Student2(Student1):\n",
    "    def s(self):\n",
    "        print(\"in student2\")\n",
    "class Student3(Student1):\n",
    "    def s(self):\n",
    "        print(\"in strudent3\")\n",
    "class Student4(Student2,Student3):\n",
    "    def s(self):\n",
    "        print(\"in student4\")\n",
    "obj = Student4()\n",
    "obj.s()\n",
    "Student2.s(obj)\n",
    "Student1.s(obj)\n",
    "Student3.s(obj)"
   ]
  },
  {
   "cell_type": "markdown",
   "id": "05eef51e-7e9e-4727-aa53-735bca603e53",
   "metadata": {},
   "source": [
    "Write a program where a child class calls the constructor of the parent class."
   ]
  },
  {
   "cell_type": "code",
   "execution_count": 38,
   "id": "871d0a81-5fd6-4d4d-a558-4b675513cf29",
   "metadata": {},
   "outputs": [
    {
     "name": "stdout",
     "output_type": "stream",
     "text": [
      "[1, 2, 3, 6, 9, 5, 4, 7, 8]\n"
     ]
    }
   ],
   "source": [
    "class Student():\n",
    "    def __init__(self,x):\n",
    "        print(x)\n",
    "class Substudent(Student):\n",
    "    def __init__(self,x):\n",
    "        super().__init__(x)\n",
    "x = [1,2,3,6,9,5,4,7,8]\n",
    "s = Substudent(x)\n",
    "    "
   ]
  },
  {
   "cell_type": "markdown",
   "id": "9152857d-4017-46fe-b246-27b12ab33b43",
   "metadata": {},
   "source": [
    "Write a program to demonstrate method overriding."
   ]
  },
  {
   "cell_type": "code",
   "execution_count": 3,
   "id": "2c51ee53-6435-4665-9fd7-de503787c286",
   "metadata": {},
   "outputs": [],
   "source": [
    "class Animal():\n",
    "    def make_sound(self):\n",
    "        print(\"animal sound\")\n",
    "    def eat(self):\n",
    "        print(\"animel eating\")\n",
    "class Dog(Animal):\n",
    "    def make_sound(self):\n",
    "        print(\"woof\")\n",
    "    def eat(self):\n",
    "        print(\"dog is eating the bones\")\n",
    "class Cat(Animal):\n",
    "    def make_sound(self):\n",
    "        print(\"meow\")"
   ]
  },
  {
   "cell_type": "code",
   "execution_count": 8,
   "id": "2cfebe44-da99-4e9e-bdff-aff97f9a4a12",
   "metadata": {},
   "outputs": [
    {
     "name": "stdout",
     "output_type": "stream",
     "text": [
      "meow\n",
      "dog is eating the bones\n",
      "animal sound\n"
     ]
    }
   ],
   "source": [
    "animal = Animal()\n",
    "dog = Dog()\n",
    "cat = Cat()\n",
    "cat.make_sound()\n",
    "dog.eat()\n",
    "animal.make_sound()"
   ]
  },
  {
   "cell_type": "markdown",
   "id": "52a819c4-16b9-4616-b0b2-0ba45aeeb891",
   "metadata": {},
   "source": [
    "Create a class Animal and inherit it into two classes Dog and Cat. Each class should have a method make_sound()."
   ]
  },
  {
   "cell_type": "code",
   "execution_count": 9,
   "id": "049fc903-b49b-4ef6-85d6-b99db6d785fa",
   "metadata": {},
   "outputs": [],
   "source": [
    "class Animal:\n",
    "    def speak(self):\n",
    "        print(\"animal makes a sound\")\n",
    "class Dog(Animal):\n",
    "    def speak(self):\n",
    "        print(\"dog barks\")\n",
    "class Cat(Animal):\n",
    "    def speak(self):\n",
    "        print(\"cat meows\")"
   ]
  },
  {
   "cell_type": "code",
   "execution_count": 10,
   "id": "06fa2989-4582-44d7-846f-01dee7917cb0",
   "metadata": {},
   "outputs": [],
   "source": [
    "dog= Dog()\n",
    "cat = Cat()"
   ]
  },
  {
   "cell_type": "code",
   "execution_count": 11,
   "id": "c4e4cbf4-4210-4758-9bf1-5fa331557bec",
   "metadata": {},
   "outputs": [
    {
     "name": "stdout",
     "output_type": "stream",
     "text": [
      "dog barks\n",
      "cat meows\n"
     ]
    }
   ],
   "source": [
    "dog.speak()\n",
    "cat.speak()"
   ]
  },
  {
   "cell_type": "markdown",
   "id": "f9615031-4262-446d-8240-4cae6ff3acea",
   "metadata": {},
   "source": [
    "Demonstrate the use of super() in a derived class constructor."
   ]
  },
  {
   "cell_type": "code",
   "execution_count": 17,
   "id": "799e1502-ec2c-4711-a8f9-b0171819e3bb",
   "metadata": {},
   "outputs": [],
   "source": [
    "class Parent:\n",
    "    def __init__(self, name):\n",
    "        self.name = name\n",
    "        print(f\"Parent constructor called for {self.name}\")\n",
    "\n",
    "class Child(Parent):\n",
    "    def __init__(self, name, age):\n",
    "        super().__init__(name)\n",
    "        self.age = age\n",
    "        print(f\"Child constructor called for {self.name} age {self.age}\")\n"
   ]
  },
  {
   "cell_type": "code",
   "execution_count": 18,
   "id": "7316cf44-c87a-42bc-b333-8c8b964dfc0d",
   "metadata": {},
   "outputs": [
    {
     "name": "stdout",
     "output_type": "stream",
     "text": [
      "Parent constructor called for sriram\n",
      "Child constructor called for sriram age 22\n"
     ]
    }
   ],
   "source": [
    "obj = Child(\"sriram\", 22)"
   ]
  },
  {
   "cell_type": "markdown",
   "id": "1e79b9c2-b784-4b9c-8a1c-d01dd740de71",
   "metadata": {},
   "source": [
    "Implement multi-level inheritance and show how data flows through different levels."
   ]
  },
  {
   "cell_type": "code",
   "execution_count": 27,
   "id": "460e8cf6-ccd6-47ec-a1b9-24332e60cd84",
   "metadata": {},
   "outputs": [],
   "source": [
    "class Employee:\n",
    "    def __init__(self, name, salary):\n",
    "        self.name = name\n",
    "        self.salary = salary  \n",
    "\n",
    "    def show_salary(self):\n",
    "        print(f\"Salary of {self.name}: {self._salary}\")\n",
    "\n",
    "class emp(Employee):\n",
    "    def update_salary(self, new_salary):\n",
    "        self.salary = new_salary  "
   ]
  },
  {
   "cell_type": "code",
   "execution_count": 51,
   "id": "2ca3e1ce-b547-48e6-a8ba-2208d9596d01",
   "metadata": {},
   "outputs": [
    {
     "ename": "AttributeError",
     "evalue": "'emp' object has no attribute '_salary'",
     "output_type": "error",
     "traceback": [
      "\u001b[1;31m---------------------------------------------------------------------------\u001b[0m",
      "\u001b[1;31mAttributeError\u001b[0m                            Traceback (most recent call last)",
      "Cell \u001b[1;32mIn[51], line 2\u001b[0m\n\u001b[0;32m      1\u001b[0m employ1 \u001b[38;5;241m=\u001b[39m emp(\u001b[38;5;124m\"\u001b[39m\u001b[38;5;124msriram\u001b[39m\u001b[38;5;124m\"\u001b[39m,\u001b[38;5;241m40000\u001b[39m)\n\u001b[1;32m----> 2\u001b[0m \u001b[43memploy1\u001b[49m\u001b[38;5;241;43m.\u001b[39;49m\u001b[43mshow_salary\u001b[49m\u001b[43m(\u001b[49m\u001b[43m)\u001b[49m\n\u001b[0;32m      3\u001b[0m employ1\u001b[38;5;241m.\u001b[39mupdate_salary(\u001b[38;5;241m80000\u001b[39m)\n\u001b[0;32m      4\u001b[0m employ1\u001b[38;5;241m.\u001b[39mshow_salary()\n",
      "Cell \u001b[1;32mIn[27], line 7\u001b[0m, in \u001b[0;36mEmployee.show_salary\u001b[1;34m(self)\u001b[0m\n\u001b[0;32m      6\u001b[0m \u001b[38;5;28;01mdef\u001b[39;00m\u001b[38;5;250m \u001b[39m\u001b[38;5;21mshow_salary\u001b[39m(\u001b[38;5;28mself\u001b[39m):\n\u001b[1;32m----> 7\u001b[0m     \u001b[38;5;28mprint\u001b[39m(\u001b[38;5;124mf\u001b[39m\u001b[38;5;124m\"\u001b[39m\u001b[38;5;124mSalary of \u001b[39m\u001b[38;5;132;01m{\u001b[39;00m\u001b[38;5;28mself\u001b[39m\u001b[38;5;241m.\u001b[39mname\u001b[38;5;132;01m}\u001b[39;00m\u001b[38;5;124m: \u001b[39m\u001b[38;5;132;01m{\u001b[39;00m\u001b[38;5;28;43mself\u001b[39;49m\u001b[38;5;241;43m.\u001b[39;49m\u001b[43m_salary\u001b[49m\u001b[38;5;132;01m}\u001b[39;00m\u001b[38;5;124m\"\u001b[39m)\n",
      "\u001b[1;31mAttributeError\u001b[0m: 'emp' object has no attribute '_salary'"
     ]
    }
   ],
   "source": [
    "employ1 = emp(\"sriram\",40000)\n",
    "employ1.show_salary()\n",
    "employ1.update_salary(80000)\n",
    "employ1.show_salary()"
   ]
  }
 ],
 "metadata": {
  "kernelspec": {
   "display_name": "Python 3 (ipykernel)",
   "language": "python",
   "name": "python3"
  },
  "language_info": {
   "codemirror_mode": {
    "name": "ipython",
    "version": 3
   },
   "file_extension": ".py",
   "mimetype": "text/x-python",
   "name": "python",
   "nbconvert_exporter": "python",
   "pygments_lexer": "ipython3",
   "version": "3.13.2"
  }
 },
 "nbformat": 4,
 "nbformat_minor": 5
}
